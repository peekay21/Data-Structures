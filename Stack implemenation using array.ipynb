{
 "cells": [
  {
   "cell_type": "code",
   "execution_count": 1,
   "metadata": {},
   "outputs": [
    {
     "name": "stdout",
     "output_type": "stream",
     "text": [
      "10 pushed to stack\n",
      "20 pushed to stack\n",
      "30 pushed to stack\n",
      "30 popped from stack\n",
      "Top element is 20\n"
     ]
    }
   ],
   "source": [
    "class stacknode:\n",
    "    def __init__(self,data):\n",
    "        self.data = data\n",
    "        self.next = None\n",
    "    \n",
    "class stack:\n",
    "    # Constructor to initialize the root of the linked list\n",
    "    def __init__(self):\n",
    "        self.root = None\n",
    "    \n",
    "    # To check whether the list is empty or not\n",
    "    def isEmpty(self):\n",
    "        return True if self.root is None else False\n",
    "    \n",
    "    def push(self, data):\n",
    "        newnode = stacknode(data)\n",
    "        newnode.next = self.root\n",
    "        self.root = newnode\n",
    "        print(\"%d pushed to stack\" %(data))\n",
    "        \n",
    "    def pop(self):\n",
    "        if self.isEmpty():\n",
    "            return float(\"-inf\")\n",
    "        \n",
    "        temp = self.root\n",
    "        self.root = self.root.next\n",
    "        return temp.data\n",
    "    \n",
    "    def peek(self):\n",
    "        if self.isEmpty():\n",
    "            return float('-inf')\n",
    "        return self.root.data\n",
    "\n",
    "if __name__ == '__main__':\n",
    "    stack = stack()\n",
    "    stack.push(10)\n",
    "    stack.push(20) \n",
    "    stack.push(30)\n",
    "    \n",
    "    print('%d popped from stack' %(stack.pop()))\n",
    "    print('Top element is %d' %(stack.peek()))"
   ]
  },
  {
   "cell_type": "code",
   "execution_count": 2,
   "metadata": {},
   "outputs": [
    {
     "name": "stdout",
     "output_type": "stream",
     "text": [
      "-inf\n"
     ]
    }
   ],
   "source": [
    "print(float('-inf'))"
   ]
  },
  {
   "cell_type": "code",
   "execution_count": null,
   "metadata": {},
   "outputs": [],
   "source": []
  }
 ],
 "metadata": {
  "kernelspec": {
   "display_name": "Python [conda env:deeplearning] *",
   "language": "python",
   "name": "conda-env-deeplearning-py"
  },
  "language_info": {
   "codemirror_mode": {
    "name": "ipython",
    "version": 3
   },
   "file_extension": ".py",
   "mimetype": "text/x-python",
   "name": "python",
   "nbconvert_exporter": "python",
   "pygments_lexer": "ipython3",
   "version": "3.7.7"
  }
 },
 "nbformat": 4,
 "nbformat_minor": 4
}
