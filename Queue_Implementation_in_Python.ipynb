{
 "cells": [
  {
   "cell_type": "markdown",
   "metadata": {},
   "source": [
    "## QUEUE IMPLEMENTATION USING ARRAY\n",
    "----------------------"
   ]
  },
  {
   "cell_type": "markdown",
   "metadata": {},
   "source": [
    "### Queue is data structure which is work in following principle FIFO(First In First Out). data elements are inserted in rear end of array, where retrieve/ delete the from the front end.\n",
    "\n",
    "## Operations are done in Queue\n",
    "\n",
    "> * <b>Enqueue</b> : Adds element in the rear end of the queue. \n",
    "> * <b>Dequeue</b> : Deletes element in the front end of the queue. \n",
    "> * <b>Front</b> : get the front element of the queue. \n",
    "> * <b>Rear</b> : get the last eleemnt of the queue. "
   ]
  },
  {
   "cell_type": "markdown",
   "metadata": {},
   "source": [
    "<b>Queue Impleementation</b> <hr>"
   ]
  },
  {
   "cell_type": "code",
   "execution_count": 9,
   "metadata": {},
   "outputs": [
    {
     "name": "stdout",
     "output_type": "stream",
     "text": [
      "10 enqueued from queue.\n",
      "20 enqueued from queue.\n",
      "30 enqueued from queue.\n",
      "40 enqueued from queue.\n",
      "10 dequeued from queue\n",
      "Front item is  20\n",
      "Rear item is  40\n"
     ]
    }
   ],
   "source": [
    "class Queue:\n",
    "    def __init__(self, capacity):\n",
    "        self.front = -1\n",
    "        self.size = 0\n",
    "        self.rear = -1\n",
    "        self.Q = [None] * capacity\n",
    "        self.capacity = capacity\n",
    "        \n",
    "    def isFull(self):\n",
    "        return self.size == self.capacity\n",
    "    \n",
    "    def isEmpty(self):\n",
    "        return self.size == 0\n",
    "    \n",
    "    def EnQueue(self, item):\n",
    "        if self.isFull():\n",
    "            print('Full')\n",
    "            return\n",
    "        self.rear = (self.rear + 1) % (self.capacity)\n",
    "        self.Q[self.rear] = item\n",
    "        self.size = self.size +1\n",
    "        print('% s enqueued from queue.' % str(item))\n",
    "        \n",
    "        if self.front==-1:\n",
    "            self.front = 0\n",
    "        \n",
    "    def DeQueue(self):\n",
    "        if self.isEmpty():\n",
    "            print('Empty')\n",
    "            return \n",
    "        print('%s dequeued from queue' %str(self.Q[self.front]))\n",
    "        self.front = (self.front +1) % (self.capacity)\n",
    "        self.size = self.size -1\n",
    "        \n",
    "        if self.front > self.rear:\n",
    "            self.front = self.rear = -1\n",
    "        \n",
    "    def que_front(self):\n",
    "        if self.isEmpty():\n",
    "            print('queue is Empty')\n",
    "            return \n",
    "        print('Front item is ', self.Q[self.front])\n",
    "        \n",
    "    def que_rear(self):\n",
    "        if self.isEmpty():\n",
    "            print('Queue is Empty')\n",
    "        print('Rear item is ', self.Q[self.rear])\n",
    "        \n",
    "\n",
    "if __name__ =='__main__':\n",
    "    queue = Queue(30)\n",
    "    queue.EnQueue(10)\n",
    "    queue.EnQueue(20)\n",
    "    queue.EnQueue(30)\n",
    "    queue.EnQueue(40)\n",
    "    queue.DeQueue()\n",
    "    queue.que_front()\n",
    "    queue.que_rear()"
   ]
  },
  {
   "cell_type": "markdown",
   "metadata": {},
   "source": [
    "<ol> \n",
    "<b>Pros of Array implementation </b> <hr>\n",
    "<li> Easy to implementation</li>\n",
    "<ol>\n",
    "    \n",
    "    \n",
    "    "
   ]
  },
  {
   "cell_type": "markdown",
   "metadata": {},
   "source": [
    "<ol> <b> Cons of Array implementation </b> <hr>\n",
    "    <li> Data structure of fixed size, cannot be changed.</li>\n",
    "    <li> If the large number of enqueue and dequeue operations, at some point we cannot able to insert or delete even though list is empty.<li>\n",
    "    <ol>"
   ]
  }
 ],
 "metadata": {
  "kernelspec": {
   "display_name": "Python [conda env:deeplearning] *",
   "language": "python",
   "name": "conda-env-deeplearning-py"
  },
  "language_info": {
   "codemirror_mode": {
    "name": "ipython",
    "version": 3
   },
   "file_extension": ".py",
   "mimetype": "text/x-python",
   "name": "python",
   "nbconvert_exporter": "python",
   "pygments_lexer": "ipython3",
   "version": "3.7.7"
  }
 },
 "nbformat": 4,
 "nbformat_minor": 4
}
