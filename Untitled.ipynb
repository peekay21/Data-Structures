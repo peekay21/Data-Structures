{
 "cells": [
  {
   "cell_type": "markdown",
   "metadata": {},
   "source": [
    "# Queue implementation using stack"
   ]
  },
  {
   "cell_type": "code",
   "execution_count": 8,
   "metadata": {},
   "outputs": [
    {
     "name": "stdout",
     "output_type": "stream",
     "text": [
      "10 enqueued to queue.\n",
      "20 enqueued to queue.\n",
      "30 enqueued to queue.\n",
      "40 enqueued to queue.\n",
      "Front element of stack:  10\n",
      "Rear element of stack:  40\n",
      "10 dequed from the queue.\n",
      "Front element of stack  20\n",
      "Rear element of stack:  40\n"
     ]
    }
   ],
   "source": [
    "# Queue implementation using stack\n",
    "\n",
    "# define a class, name stack, which four elements two stack which are stack1, stack2 and two other variables front and rear. \n",
    "class stack:\n",
    "    def __init__(self):\n",
    "        self.stack1 = [] # for enque in it \n",
    "        self.stack2 = [] # using as intermediatory during pop or deletion operation\n",
    "        self.front = None # front element\n",
    "        self.rear = None # rear element\n",
    "    \n",
    "    # use for enqueue in the queue\n",
    "    def enqueue(self,data):\n",
    "        print('%s enqueued to queue.' %str(data))\n",
    "        self.stack1.append(data)\n",
    "        \n",
    "        if len(self.stack1)==1:\n",
    "            self.front = data\n",
    "            self.rear = data\n",
    "        else:\n",
    "            self.rear = data\n",
    "    \n",
    "    #  used for deque in the queue\n",
    "    def deque(self):\n",
    "        \n",
    "        if len(self.stack1)==0:\n",
    "            print('Underflow....')\n",
    "            return\n",
    "        \n",
    "        while len(self.stack1) > 0:\n",
    "            self.stack2.append(self.stack1.pop())\n",
    "        \n",
    "        print('%s dequed from the queue.' %str(self.stack2.pop()))\n",
    "        if len(self.stack2) ==0:\n",
    "            self.front = None\n",
    "            self.rear = None\n",
    "        else:\n",
    "            self.front = self.stack2[len(self.stack2)-1]\n",
    "        while len(self.stack2)>0:\n",
    "            self.stack1.append(self.stack2.pop())\n",
    "        \n",
    "# Main Driver\n",
    "if __name__ == '__main__':\n",
    "    stack = stack()\n",
    "    stack.enqueue(10)\n",
    "    stack.enqueue(20)\n",
    "    stack.enqueue(30)\n",
    "    stack.enqueue(40)\n",
    "    \n",
    "    print('Front element of stack: ', stack.front)\n",
    "    print('Rear element of stack: ', stack.rear)\n",
    "    \n",
    "    stack.deque()\n",
    "    \n",
    "    print('Front element of stack ', stack.front)\n",
    "    print('Rear element of stack: ',stack.rear)\n",
    "    \n",
    "    "
   ]
  },
  {
   "cell_type": "code",
   "execution_count": null,
   "metadata": {},
   "outputs": [],
   "source": []
  }
 ],
 "metadata": {
  "kernelspec": {
   "display_name": "Python [conda env:deeplearning] *",
   "language": "python",
   "name": "conda-env-deeplearning-py"
  },
  "language_info": {
   "codemirror_mode": {
    "name": "ipython",
    "version": 3
   },
   "file_extension": ".py",
   "mimetype": "text/x-python",
   "name": "python",
   "nbconvert_exporter": "python",
   "pygments_lexer": "ipython3",
   "version": "3.7.7"
  }
 },
 "nbformat": 4,
 "nbformat_minor": 4
}
